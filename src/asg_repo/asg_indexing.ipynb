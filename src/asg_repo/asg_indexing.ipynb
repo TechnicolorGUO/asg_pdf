{
 "cells": [
  {
   "cell_type": "markdown",
   "metadata": {},
   "source": [
    "# Indexing\n",
    "## Embedding\n",
    "After splitting, We need somewhere to store and index our splits, so that they can later be searched over. This is often done using a VectorStore and Embeddings model."
   ]
  },
  {
   "cell_type": "code",
   "execution_count": null,
   "metadata": {},
   "outputs": [],
   "source": [
    "from sentence_transformers import SentenceTransformer\n",
    "from transformers import AutoTokenizer, AutoModel\n",
    "import torch"
   ]
  },
  {
   "cell_type": "markdown",
   "metadata": {},
   "source": [
    "### Sentence Transformer \n",
    "Model: \"all-MiniLM-L6-v2\"\n",
    "```markdown\n",
    "pooling_configuration:\n",
    "{\n",
    "  \"word_embedding_dimension\": 384,\n",
    "  \"pooling_mode_cls_token\": false,\n",
    "  \"pooling_mode_mean_tokens\": true,\n",
    "  \"pooling_mode_max_tokens\": false,\n",
    "  \"pooling_mode_mean_sqrt_len_tokens\": false\n",
    "}\n",
    "sentence_bert_config:\n",
    "{\n",
    "  \"max_seq_length\": 256,\n",
    "  \"do_lower_case\": false\n",
    "}"
   ]
  },
  {
   "cell_type": "code",
   "execution_count": 58,
   "metadata": {},
   "outputs": [],
   "source": [
    "from langchain.embeddings import HuggingFaceEmbeddings\n",
    "\n",
    "embeddings = HuggingFaceEmbeddings(model_name=\"all-MiniLM-L6-v2\")\n",
    "# equivalent to SentenceTransformerEmbeddings(model_name=\"all-MiniLM-L6-v2\")\n",
    "\n",
    "# this is the default model of langchain-huggingface-embeddings\n",
    "# embeddings_model = HuggingFaceEmbeddings(model_name=\"sentence-transformers/all-mpnet-base-v2\")\n",
    "\n",
    "# import getpass\n",
    "# import os\n",
    "# os.environ[\"OPENAI_API_KEY\"] = getpass.getpass()\n",
    "# from langchain_openai import OpenAIEmbeddings\n",
    "# embeddings = OpenAIEmbeddings(model=\"text-embedding-3-large\") # 1536 dimensions by default\n",
    "# text = \"This is a test document.\"\n",
    "# query_result = embeddings.embed_query(text)\n",
    "# print(query_result[:5])\n",
    "# doc_result = embeddings.embed_documents([text])\n",
    "# print(doc_result[0][:5])\n",
    "# # but by passing in dimensions=1024 we can reduce the size of our embeddings to 1024:\n",
    "# embeddings_1024 = OpenAIEmbeddings(model=\"text-embedding-3-large\", dimensions=1024)"
   ]
  },
  {
   "cell_type": "code",
   "execution_count": 59,
   "metadata": {},
   "outputs": [
    {
     "name": "stdout",
     "output_type": "stream",
     "text": [
      "12\n",
      "True\n",
      "[-0.01946728117763996, 0.04551958292722702, 0.050001200288534164, -0.008813056163489819, -0.061793047934770584, 0.08493052423000336, 0.044280748814344406, 0.0900396853685379, -0.021105149760842323, 0.01685332879424095, -0.01165743451565504, 0.043103333562612534, -0.004071816336363554, -0.043039899319410324, 0.02665494568645954, 0.021819395944476128, 0.11488445103168488, -0.005748739931732416, -0.011197486892342567, -0.043945666402578354, -0.12934647500514984, 0.014117486774921417, 0.0438896045088768, -0.03750012442469597, 0.012102385051548481, -0.002147136954590678, -0.050425123423337936, -0.026829950511455536, 0.04428607597947121, -0.035589549690485, -0.040583543479442596, 0.12647095322608948, 0.01170614268630743, -0.0845954418182373, -0.11681095510721207, -0.01938350312411785, 0.02140682190656662, 0.07671185582876205, -0.020045312121510506, 0.037622977048158646, -0.00033299901406280696, 0.005541974678635597, -0.02060716226696968, -0.10365992784500122, -0.04180404916405678, -0.03738449141383171, -0.012161311693489552, 0.008177953772246838, 0.045785825699567795, 0.019757431000471115, 0.006529476027935743, 0.007708278018981218, 0.07083947211503983, -0.014578799717128277, -0.03405078873038292, -0.13428042829036713, 0.0008102467400021851, 0.017164254561066628, 0.008183120749890804, 0.027274958789348602, -0.09022682160139084, -0.009005798026919365, -0.036815203726291656, -0.0011479280656203628, 0.08942912518978119, -0.0987694188952446, 0.027526013553142548, 0.07494327425956726, -0.031524065881967545, 0.04358948394656181, -0.08951657265424728, -0.031744226813316345, -0.005825764033943415, 0.076138436794281, 0.01450470183044672, -0.004070046357810497, 0.027487535029649734, -0.054629337042570114, -0.03369877487421036, -0.023671362549066544, -0.005704711657017469, -0.010303380899131298, 0.015804903581738472, 0.017898593097925186, 0.005848131608217955, 0.10628361254930496, -0.04434899240732193, -0.03194960951805115, -0.0570601262152195, -0.06035974249243736, 0.0600738525390625, 0.09054034948348999, 0.0024465094320476055, -0.0017305954825133085, 0.040404751896858215, 0.02942783758044243, -0.00859286542981863, 0.09708277881145477, -0.027790620923042297, 0.05612899363040924, -0.018146123737096786, 0.019770320504903793, 0.08136904239654541, 0.007244851440191269, -0.04681727662682533, -0.09972420334815979, 0.04558543488383293, 0.003450866090133786, -0.009782660752534866, 0.008758589625358582, -0.026767980307340622, 0.00495263934135437, -0.012518241070210934, -0.09833575040102005, -0.06014680862426758, -0.053046178072690964, 0.04517314210534096, -0.06519505381584167, -0.05698106437921524, 0.08366280794143677, 0.05516834929585457, 0.03986470028758049, -0.07941935211420059, 0.020787710323929787, -0.024219127371907234, 0.020490501075983047, 0.010123793967068195, -5.8835262847021416e-33, -0.02212510257959366, -0.012735413387417793, 0.0012343509588390589, 0.020090622827410698, -0.04738233983516693, -0.03311131149530411, -0.031818460673093796, -0.08534245193004608, 0.07286489009857178, -0.040570951998233795, 0.06650395691394806, -0.021478792652487755, -0.051945943385362625, 0.0032716405112296343, 0.05659523233771324, 0.06624195724725723, -0.034859322011470795, -0.055857449769973755, 0.028219766914844513, 0.01542082242667675, -0.023494957014918327, 0.13588504493236542, 0.04989815503358841, 0.009033279493451118, -0.13541550934314728, 0.07018321007490158, 0.08566965162754059, -0.0025381669402122498, -0.022459696978330612, 0.022680506110191345, 0.06162493675947189, -0.04764975979924202, -0.0390467643737793, -0.021805234253406525, 0.009702416136860847, 0.010226567275822163, -0.11813997477293015, -0.06536038964986801, -0.03728043660521507, 0.030678758397698402, 0.017066972330212593, 0.01877450756728649, -0.098828986287117, -0.021062199026346207, 0.0505831316113472, 0.03677836433053017, 0.0500788688659668, 0.014697561040520668, -0.04790318384766579, 0.09511580318212509, 0.08776180446147919, 0.05601830780506134, -0.019489727914333344, 0.09946831315755844, -0.007021300029009581, 0.054974496364593506, 0.051810380071401596, -0.09427670389413834, -0.0037595152389258146, 0.05412651225924492, -0.059363167732954025, 0.07835095375776291, 0.04939757287502289, 0.030157148838043213, -0.01281642634421587, 0.05522313714027405, 0.04195819050073624, 0.014437771402299404, -0.0605790913105011, 0.0028382076416164637, 0.058541327714920044, -0.030201256275177002, -0.09883572161197662, 0.02850334532558918, 0.036392878741025925, -0.022890610620379448, 0.07087763398885727, -0.0012484347680583596, 0.09121036529541016, -0.04308968782424927, 0.04755082353949547, 0.010667622089385986, -0.03969693183898926, 0.010451652109622955, -0.0232059545814991, -0.0023566142190247774, -0.0031862743198871613, -0.07732086628675461, -0.03576389327645302, -0.007817634381353855, -0.011553937569260597, -0.04411545395851135, 0.020042581483721733, 0.032916683703660965, -0.0546431802213192, 2.5320905041200415e-33, 0.08407716453075409, -0.008807152509689331, 9.023938764585182e-05, 0.07397022843360901, -0.002066961955279112, 0.02812916785478592, -0.034496381878852844, 0.020845264196395874, -0.024915821850299835, 0.10741321742534637, 0.04896777123212814, -0.010728291235864162, 0.0021905526518821716, 0.021587152034044266, 0.14515335857868195, 0.048037637025117874, 0.05982553958892822, 0.07363663613796234, 0.008361524902284145, -0.00809062272310257, 0.03308139741420746, 0.04597067832946777, 0.0023121312260627747, 0.011537348851561546, -0.08298905193805695, -0.054122887551784515, -0.0550556555390358, -0.061201825737953186, -0.04790307208895683, 0.0048824939876794815, 0.02154460735619068, -0.012903823517262936, -0.009929189458489418, -0.01829311065375805, 0.030314698815345764, -0.026290947571396828, -0.008713475428521633, 0.0524572990834713, -0.06261806935071945, -0.03422263637185097, -0.0520477220416069, -0.017462123185396194, 0.028668906539678574, 0.022162405773997307, -0.034708764404058456, 0.05566128343343735, -0.06678235530853271, 0.011504970490932465, -0.04889773949980736, 0.016432253643870354, 0.05330090597271919, 0.0168240237981081, 0.0945897251367569, -0.08306969702243805, -0.029772760346531868, 0.0046714614145457745, -0.03574500232934952, -0.02413099631667137, -0.10048191994428635, 0.1455409973859787, 0.0485139898955822, 0.051902301609516144, -0.033222924917936325, -0.022311795502901077, 0.04524053633213043, 0.031071484088897705, -0.07070975750684738, -0.051601897925138474, -0.16562071442604065, -0.04151764139533043, 0.0059473696164786816, -0.028809864073991776, -0.017938438802957535, -0.013709490187466145, -0.1157228946685791, 0.06508009135723114, 0.07154304534196854, -0.05433143302798271, 0.011005423963069916, -0.01813613437116146, -0.07405965775251389, -0.04143688082695007, -0.008716031908988953, -0.009738698601722717, -0.05638996511697769, 0.05483781918883324, -0.1541157066822052, 0.013048321008682251, 0.01815575547516346, 0.0294484905898571, 0.04038197174668312, -0.03990669548511505, -0.07774967700242996, 0.013962368480861187, 0.026408910751342773, -1.411066463674615e-08, 0.02413254790008068, -0.004270680248737335, 0.007482179906219244, 0.019540799781680107, -0.011896206066012383, 0.026763765141367912, -0.04454745352268219, 0.04489907994866371, 0.04060967266559601, 0.15927040576934814, 0.010384918190538883, -0.002571559278294444, -0.030910655856132507, 0.01707291044294834, 0.04657791554927826, -0.001338549773208797, -0.0003829043125733733, -0.06427345424890518, -0.09130895882844925, -0.02302669733762741, 0.011433253064751625, -0.005089861340820789, 0.07729150354862213, -0.05323789268732071, -0.04220379516482353, -0.006441780831664801, -0.012980381958186626, 0.00658988393843174, 0.02494865097105503, 0.002770634600892663, 0.03315948694944382, 0.015047580935060978, -0.014387398958206177, -0.06650853902101517, -0.010714088566601276, -0.01231242436915636, 0.004246838856488466, -0.056469812989234924, 0.01787150837481022, 0.007125125266611576, 0.010359946638345718, 0.023891307413578033, 0.07003723084926605, -0.0021841549314558506, 0.02720615081489086, 0.00807192362844944, -0.03048870526254177, 0.02939916029572487, -0.0588252916932106, 0.01842455007135868, -0.0314582884311676, -0.021902920678257942, 0.047378819435834885, 0.025446146726608276, -0.021680185571312904, 0.0040950165130198, 0.00042622233740985394, -0.021401112899184227, 0.01737147569656372, -0.008127947337925434, 0.11637114733457565, -0.06238581985235214, 0.03820931538939476, 0.06854541599750519]\n",
      "[-0.0194673091173172, 0.04551953077316284, 0.05000119283795357, -0.008813109248876572, -0.06179304048418999, 0.08493055403232574, 0.044280756264925, 0.0900397077202797, -0.021105095744132996, 0.01685330457985401, -0.011657455004751682, 0.04310332611203194, -0.0040718307718634605, -0.043039895594120026, 0.026654954999685287, 0.021819427609443665, 0.11488445848226547, -0.005748750641942024, -0.011197484098374844, -0.04394569993019104, -0.12934647500514984, 0.014117482118308544, 0.04388962313532829, -0.037500135600566864, 0.012102363631129265, -0.0021470878273248672, -0.05042510852217674, -0.026829930022358894, 0.0442860908806324, -0.03558957204222679, -0.04058355838060379, 0.12647095322608948, 0.01170614454895258, -0.0845954418182373, -0.11681094765663147, -0.019383510574698448, 0.021406758576631546, 0.07671186327934265, -0.020045319572091103, 0.03762294352054596, -0.00033301865914836526, 0.00554199144244194, -0.02060719020664692, -0.10365991294384003, -0.04180409014225006, -0.0373845100402832, -0.012161320075392723, 0.00817794818431139, 0.045785803347826004, 0.019757457077503204, 0.0065294308587908745, 0.007708294782787561, 0.07083945721387863, -0.014578783884644508, -0.03405079245567322, -0.13428042829036713, 0.0008102679857984185, 0.01716427318751812, 0.008183140307664871, 0.027274945750832558, -0.09022685885429382, -0.009005751460790634, -0.03681518882513046, -0.0011479380773380399, 0.08942911028862, -0.09876943379640579, 0.027526017278432846, 0.07494323700666428, -0.03152404725551605, 0.043589524924755096, -0.0895165503025055, -0.031744204461574554, -0.005825793370604515, 0.07613837718963623, 0.014504692517220974, -0.00407002680003643, 0.02748756669461727, -0.0546293780207634, -0.03369881212711334, -0.023671327158808708, -0.005704729352146387, -0.010303370654582977, 0.01580486260354519, 0.017898593097925186, 0.005848174914717674, 0.10628356039524078, -0.04434899613261223, -0.03194959834218025, -0.0570601262152195, -0.06035975366830826, 0.06007387489080429, 0.09054037183523178, 0.0024465129245072603, -0.0017306116642430425, 0.04040476307272911, 0.02942783385515213, -0.008592828176915646, 0.09708277881145477, -0.02779063768684864, 0.05612899735569954, -0.018146120011806488, 0.019770339131355286, 0.08136899769306183, 0.007244827691465616, -0.04681722819805145, -0.09972420334815979, 0.04558549076318741, 0.003450878197327256, -0.00978265330195427, 0.008758594281971455, -0.026767948642373085, 0.004952624440193176, -0.012518206611275673, -0.09833575040102005, -0.06014680489897728, -0.053046178072690964, 0.04517310485243797, -0.06519506126642227, -0.05698103830218315, 0.08366280794143677, 0.05516836419701576, 0.03986469656229019, -0.07941931486129761, 0.020787745714187622, -0.024219082668423653, 0.020490488037467003, 0.010123797692358494, -5.883525917360157e-33, -0.022125117480754852, -0.012735452502965927, 0.0012343412963673472, 0.020090624690055847, -0.04738237336277962, -0.03311137109994888, -0.0318184532225132, -0.08534245938062668, 0.07286488264799118, -0.040570925921201706, 0.06650395691394806, -0.021478762850165367, -0.05194593966007233, 0.003271627938374877, 0.05659525468945503, 0.06624196469783783, -0.03485928848385811, -0.05585741251707077, 0.028219787403941154, 0.015420830808579922, -0.023494919762015343, 0.1358850747346878, 0.04989812895655632, 0.009033272974193096, -0.1354154795408249, 0.07018321007490158, 0.0856696143746376, -0.0025381555315107107, -0.02245970256626606, 0.02268051728606224, 0.061624906957149506, -0.047649770975112915, -0.03904677554965019, -0.02180524542927742, 0.009702428244054317, 0.010226559825241566, -0.11814000457525253, -0.0653604120016098, -0.03728044778108597, 0.03067874349653721, 0.01706695556640625, 0.018774522468447685, -0.098828986287117, -0.021062219515442848, 0.050583139061927795, 0.03677835315465927, 0.050078827887773514, 0.014697572216391563, -0.0479031465947628, 0.09511580318212509, 0.08776179701089859, 0.056018270552158356, -0.019489726051688194, 0.09946834295988083, -0.007021264173090458, 0.05497448146343231, 0.051810380071401596, -0.09427668899297714, -0.003759490791708231, 0.054126519709825516, -0.05936318263411522, 0.0783509612083435, 0.04939756169915199, 0.030157163739204407, -0.012816417962312698, 0.05522312968969345, 0.04195817932486534, 0.014437743462622166, -0.060579098761081696, 0.0028382353484630585, 0.05854131281375885, -0.030201271176338196, -0.09883572906255722, 0.028503293171525, 0.036392875015735626, -0.022890662774443626, 0.07087763398885727, -0.0012484228936955333, 0.09121039509773254, -0.04308969900012016, 0.047550786286592484, 0.010667625814676285, -0.039696939289569855, 0.010451670736074448, -0.023205963894724846, -0.0023566200397908688, -0.003186254994943738, -0.07732085138559341, -0.035763949155807495, -0.007817625999450684, -0.011553903110325336, -0.04411548376083374, 0.02004259079694748, 0.03291667625308037, -0.0546431727707386, 2.5320912388040107e-33, 0.0840771421790123, -0.00880713202059269, 9.025734470924363e-05, 0.0739702433347702, -0.0020669882651418447, 0.028129179030656815, -0.03449639678001404, 0.02084522694349289, -0.02491580694913864, 0.10741318762302399, 0.04896777495741844, -0.010728295892477036, 0.002190546365454793, 0.021587124094367027, 0.14515338838100433, 0.04803762584924698, 0.05982556194067001, 0.07363662868738174, 0.008361535146832466, -0.008090639486908913, 0.03308138623833656, 0.04597067832946777, 0.002312137745320797, 0.011537352576851845, -0.08298902213573456, -0.05412289500236511, -0.05505568906664848, -0.0612017959356308, -0.04790304973721504, 0.004882514011114836, 0.02154460735619068, -0.012903811410069466, -0.009929195046424866, -0.018293116241693497, 0.03031466342508793, -0.026290956884622574, -0.008713501505553722, 0.052457332611083984, -0.06261803209781647, -0.03422259911894798, -0.052047740668058395, -0.017462097108364105, 0.028668927028775215, 0.02216239459812641, -0.03470878675580025, 0.05566129460930824, -0.06678234040737152, 0.011504960246384144, -0.048897698521614075, 0.016432257369160652, 0.05330090597271919, 0.01682402193546295, 0.0945897176861763, -0.08306968957185745, -0.02977275475859642, 0.004671463277190924, -0.03574497252702713, -0.024130970239639282, -0.10048192739486694, 0.1455409675836563, 0.04851401597261429, 0.05190229043364525, -0.033222876489162445, -0.022311802953481674, 0.04524052515625954, 0.031071506440639496, -0.070709727704525, -0.05160185694694519, -0.16562069952487946, -0.04151765629649162, 0.005947372876107693, -0.02880987524986267, -0.017938410863280296, -0.013709492050111294, -0.11572286486625671, 0.06508009880781174, 0.07154303044080734, -0.05433142930269241, 0.01100543886423111, -0.018136179074645042, -0.07405967265367508, -0.04143686220049858, -0.008716065436601639, -0.009738672524690628, -0.056390002369880676, 0.054837848991155624, -0.154115691781044, 0.013048313558101654, 0.01815578155219555, 0.029448486864566803, 0.04038200154900551, -0.039906710386276245, -0.07774968445301056, 0.013962331227958202, 0.026408882811665535, -1.4110663748567731e-08, 0.024132514372467995, -0.004270703997462988, 0.007482172921299934, 0.0195408184081316, -0.011896212585270405, 0.026763763278722763, -0.04454745724797249, 0.0448991023004055, 0.040609680116176605, 0.15927043557167053, 0.010384976863861084, -0.002571573480963707, -0.030910685658454895, 0.017072904855012894, 0.04657793045043945, -0.0013385317288339138, -0.00038291775854304433, -0.06427343934774399, -0.09130895882844925, -0.02302669547498226, 0.011433198116719723, -0.005089862272143364, 0.07729154825210571, -0.05323793739080429, -0.042203810065984726, -0.006441743578761816, -0.012980347499251366, 0.006589866708964109, 0.024948667734861374, 0.002770621096715331, 0.03315948694944382, 0.015047566033899784, -0.014387362636625767, -0.06650850176811218, -0.010714055970311165, -0.012312404811382294, 0.00424680020660162, -0.056469786912202835, 0.017871500924229622, 0.0071251606568694115, 0.010359917767345905, 0.02389136329293251, 0.07003721594810486, -0.00218415935523808, 0.027206165716052055, 0.008071987889707088, -0.030488722026348114, 0.029399162158370018, -0.05882527679204941, 0.01842455007135868, -0.031458329409360886, -0.021902909502387047, 0.047378815710544586, 0.025446131825447083, -0.02168014459311962, 0.004095033742487431, 0.0004262419533915818, -0.02140113338828087, 0.017371507361531258, -0.008127941749989986, 0.11637115478515625, -0.06238580122590065, 0.03820931166410446, 0.06854540854692459]\n"
     ]
    }
   ],
   "source": [
    "sentences = [\n",
    "    'Why is RAG popular nowadays?',\n",
    "    'It is complex to integrate retrieval component effectively.',\n",
    "    'RAG provides more contextually relevant information.',\n",
    "    'RAG can enhance the quality of generated text.',\n",
    "    'A challenge in RAG is ensuring the retrieved documents are always relevant to the query.',\n",
    "    'Models are particularly useful in open-domain question answering where external knowledge is crucial.',\n",
    "    'Long Context Windows enable the analysis and summarization of lengthy documents efficiently.',\n",
    "    'It is difficult to maintain coherence and context across lengthy spans of text.',\n",
    "    'Long Context Windows offers the advantage of extracting key insights from large volumes of text quickly.',\n",
    "    'Its ability to automate the summarization of reports, saving time and effort.',\n",
    "    'It is the computational intensity required to process extensive texts.',\n",
    "    'RAG is kind of difficult for a sophomore.'\n",
    "]\n",
    "query_result = embeddings.embed_query(sentences[0])\n",
    "# embed single query\n",
    "doc_results = embeddings.embed_documents(sentences) # encode\n",
    "# embed list of texts\n",
    "\n",
    "print(len(sentences))\n",
    "print(len(doc_results[0]) == len(doc_results[1]) == len(query_result) == 384)\n",
    "print(query_result)\n",
    "print(doc_results[0])\n",
    "# 二者结果有极细微差别 是因为api不同 预处理格式有区别\n",
    "# 使用使用embed_query()来embed query 使用embed_documents()来embed documents"
   ]
  },
  {
   "cell_type": "markdown",
   "metadata": {},
   "source": [
    "**embed_query & embed_documents**:\n",
    "\n",
    "通过提供两个不同的函数 区分不同的使用场景 使API的设计更具可读性和明确性\n",
    "\n",
    "用户可以明确地知道哪个函数用于处理文档 哪个函数用于处理查询 这有助于避免混淆 使代码更加直观"
   ]
  },
  {
   "cell_type": "code",
   "execution_count": null,
   "metadata": {},
   "outputs": [],
   "source": [
    "from sentence_transformers import SentenceTransformer\n",
    "sentences = [\"This is an example sentence\", \"Each sentence is converted\"]\n",
    "\n",
    "model = SentenceTransformer('sentence-transformers/all-MiniLM-L6-v2')\n",
    "embeddings = model.encode(sentences)\n",
    "# print(embeddings)\n",
    "# print(embeddings[0])\n",
    "len(embeddings)\n",
    "# len(embeddings[0])"
   ]
  },
  {
   "cell_type": "markdown",
   "metadata": {},
   "source": [
    "**Pooling?**    \n",
    "HuggingFaceEmbeddings 返回的嵌入向量通常是 PyTorch 张量  \n",
    "Pooling (池化): 用于从高维数据中**提取特征**，降低数据维度  \n",
    "\n",
    "Average Pooling  \n",
    "Max Pooling  \n",
    "Attention Pooling (注意力池化): 根据输入数据的重要性分配权重"
   ]
  },
  {
   "cell_type": "markdown",
   "metadata": {},
   "source": [
    "## Store"
   ]
  },
  {
   "cell_type": "markdown",
   "metadata": {},
   "source": [
    "Chroma in two modes:\n",
    "\n",
    "- in-memory - in a python script or jupyter notebook\n",
    "\n",
    "- in-memory with persistance - in a script or notebook and save/load to disk\n",
    "\n",
    "Chroma是结构化的嵌入向量数据库，专门用于存储和检索高维嵌入向量\n",
    "\n",
    "Chroma的存储方式是结构化的，因为它对数据进行了索引和组织以支持高效检索，但其存储内容（向量和元数据）可以视为非结构化数据的表示\n",
    "\n",
    "因此，可以说ChromaDB是结构化存储非结构化数据的数据库\n",
    "\n",
    "Chroma以collection的形式组织数据(mongoDB)，每个collection包含多个文档 嵌入向量和元数据"
   ]
  },
  {
   "cell_type": "code",
   "execution_count": 46,
   "metadata": {},
   "outputs": [],
   "source": [
    "# use ChromaDB to store embeddings\n",
    "from langchain_chroma import Chroma\n",
    "from asg_loader import DocumentLoading\n",
    "from asg_splitter import TextSplitting\n",
    "# from langchain_community.embeddings.sentence_transformer import (\n",
    "#     SentenceTransformerEmbeddings,\n",
    "# )\n",
    "from langchain.embeddings import HuggingFaceEmbeddings\n"
   ]
  },
  {
   "cell_type": "markdown",
   "metadata": {},
   "source": [
    "**In-memory** - in a python script or jupyter notebook"
   ]
  },
  {
   "cell_type": "code",
   "execution_count": 57,
   "metadata": {},
   "outputs": [
    {
     "name": "stdout",
     "output_type": "stream",
     "text": [
      "page_content='InProceedings of the 61st Annual Meeting of the Association for Computational Linguistics , pp.\\n15836–15848. Association for Computational Linguistics, 2023.\\nYung-Sung Chuang, Rumen Dangovski, Hongyin Luo, Yang Zhang, Shiyu Chang, Marin Soljacic,'\n",
      "page_content='InProceedings of the 61st Annual Meeting of the Association for Computational Linguistics , pp.\\n15836–15848. Association for Computational Linguistics, 2023.\\nYung-Sung Chuang, Rumen Dangovski, Hongyin Luo, Yang Zhang, Shiyu Chang, Marin Soljacic,'\n",
      "page_content='InProceedings of the 61st Annual Meeting of the Association for Computational Linguistics , pp.\\n15836–15848. Association for Computational Linguistics, 2023.\\nYung-Sung Chuang, Rumen Dangovski, Hongyin Luo, Yang Zhang, Shiyu Chang, Marin Soljacic,'\n",
      "page_content='InProceedings of the 61st Annual Meeting of the Association for Computational Linguistics , pp.\\n15836–15848. Association for Computational Linguistics, 2023.\\nYung-Sung Chuang, Rumen Dangovski, Hongyin Luo, Yang Zhang, Shiyu Chang, Marin Soljacic,'\n",
      "\n",
      "\n",
      "page_content='InProceedings of the 61st Annual Meeting of the Association for Computational Linguistics , pp.\\n15836–15848. Association for Computational Linguistics, 2023.\\nYung-Sung Chuang, Rumen Dangovski, Hongyin Luo, Yang Zhang, Shiyu Chang, Marin Soljacic,'\n"
     ]
    }
   ],
   "source": [
    "asg_splitter = TextSplitting()\n",
    "splitters = asg_splitter.pypdf_recursive_splitter(\"./Test2.pdf\")\n",
    "embedding_function = HuggingFaceEmbeddings(model_name=\"all-MiniLM-L6-v2\")\n",
    "# load it into Chroma\n",
    "db = Chroma.from_documents(splitters, embedding_function)\n",
    "\n",
    "# query it\n",
    "query = \"What methodology is used in the paper?\"\n",
    "docs = db.similarity_search(query) # use vector store as a retriever\n",
    "for doc in docs:\n",
    "    print(doc)\n",
    "print(\"\\n\")\n",
    "print(docs[0])"
   ]
  },
  {
   "cell_type": "code",
   "execution_count": 60,
   "metadata": {},
   "outputs": [
    {
     "name": "stdout",
     "output_type": "stream",
     "text": [
      "6\n",
      "Total number of documents: 1736\n",
      "Total number of vectors: 1736\n",
      "Total number of metadatas: 1736\n",
      "查询数据库中的单个文档：\n",
      "{'ids': ['0021ac77-f03e-4c2e-9ffa-72d1c50f1d54'], 'embeddings': None, 'metadatas': [None], 'documents': ['Preprint\\n-1.00 -0.75 -0.50 -0.25 0.00 0.25 0.50 0.75 1.004-53-42-31-20-10-5\\n(a)\\n (b)\\nFigure 5: (a) Density plots of cosine similarities between sentence pairs in the STS-B test set. The\\npairs have been categorized into 6 groups, reflecting the ground truth ratings (where higher ratings'], 'uris': None, 'data': None}\n",
      "All attributes in the database:\n",
      "dict_keys(['ids', 'embeddings', 'metadatas', 'documents', 'uris', 'data'])\n"
     ]
    },
    {
     "data": {
      "text/plain": [
       "\"\\n{'source': '../../../state_of_the_union.txt'}\\n{'ids': ['1'], 'embeddings': None, 'metadatas': [{'new_value': 'hello world', 'source': '../../../state_of_the_union.txt'}], 'documents': ['Tonight. I call on the Senate to: Pass the Freedom to Vote Act. Pass the John Lewis Voting Rights Act. And while you’re at it, pass the Disclose Act so Americans can know who is funding our elections. \\n\\nTonight, I’d like to honor someone who has dedicated his life to serve this country: Justice Stephen Breyer—an Army veteran, Constitutional scholar, and retiring Justice of the United States Supreme Court. Justice Breyer, thank you for your service. \\n\\nOne of the most serious constitutional responsibilities a President has is nominating someone to serve on the United States Supreme Court. \\n\\nAnd I did that 4 days ago, when I nominated Circuit Court of Appeals Judge Ketanji Brown Jackson. One of our nation’s top legal minds, who will continue Justice Breyer’s legacy of excellence.']}\\ncount before 46\\ncount after 45\\n\""
      ]
     },
     "execution_count": 60,
     "metadata": {},
     "output_type": "execute_result"
    }
   ],
   "source": [
    "# 查看数据库中的所有向量\n",
    "vectors = db.get(include=[\"embeddings\"])\n",
    "print(len(vectors))\n",
    "# print(\"查看数据库中的所有向量:\")\n",
    "# for i, vector in enumerate(vectors[\"embeddings\"]):\n",
    "#     print(f\"Vector {i+1}:\\n{vector}\\n{'-'*50}\\n\")\n",
    "\n",
    "# 查询数据库中的文档数量\n",
    "documents = db.get()\n",
    "num_documents = len(documents[\"documents\"])\n",
    "print(f\"Total number of documents: {num_documents}\")\n",
    "\n",
    "# 查询数据库中的向量数量\n",
    "vectors = db.get(include=[\"embeddings\"])\n",
    "num_vectors = len(vectors[\"embeddings\"])\n",
    "print(f\"Total number of vectors: {num_vectors}\")\n",
    "\n",
    "# 查询数据库中的元数据数量\n",
    "metadata = db.get(include=[\"metadatas\"])\n",
    "num_metadata = len(metadata[\"metadatas\"])\n",
    "print(f\"Total number of metadatas: {num_metadata}\")\n",
    "\n",
    "# 查询数据库中的单个文档\n",
    "document_id = documents[\"ids\"][0]\n",
    "document = db.get(ids=[document_id])\n",
    "# document_id = documents[\"documents\"][0][\"id\"]\n",
    "# document = db.get_by_id(document_id)\n",
    "print(f\"查询数据库中的单个文档：\\n{document}\")\n",
    "# print(f\"查询数据库中的单个文档:\\n{document}\\n\")\n",
    "\n",
    "# 查询数据库中的所有属性\n",
    "print(\"All attributes in the database:\")\n",
    "print(documents.keys())\n",
    "\n",
    "\n",
    "# # create simple ids\n",
    "# ids = [str(i) for i in range(1, len(splitters) + 1)]\n",
    "# asg_splitter = TextSplitting()\n",
    "# splitters = asg_splitter.pypdf_recursive_splitter(\"./Test2.pdf\")\n",
    "# embedding_function = HuggingFaceEmbeddings(model_name=\"all-MiniLM-L6-v2\")\n",
    "\n",
    "# # add data\n",
    "# example_db = Chroma.from_documents(splitters, embedding_function, ids=ids)\n",
    "# splitters = example_db.similarity_search(query)\n",
    "# print(splitters[0].metadata)\n",
    "\n",
    "# # update the metadata for a document\n",
    "# splitters[0].metadata = {\n",
    "#     \"source\": \"Text2.pdf\",\n",
    "#     \"author\": \"Li Xianming, Li Jing\",\n",
    "# }\n",
    "# example_db.update_document(ids[0], splitters[0])\n",
    "# print(example_db._collection.get(ids=[ids[0]]))\n",
    "\n",
    "# # delete the last document\n",
    "# print(\"count before\", example_db._collection.count())\n",
    "# example_db._collection.delete(ids=[ids[-1]])\n",
    "# print(\"count after\", example_db._collection.count())\n",
    "\n",
    "'''\n",
    "{'source': '../../../state_of_the_union.txt'}\n",
    "{'ids': ['1'], 'embeddings': None, 'metadatas': [{'new_value': 'hello world', 'source': '../../../state_of_the_union.txt'}], 'documents': ['Tonight. I call on the Senate to: Pass the Freedom to Vote Act. Pass the John Lewis Voting Rights Act. And while you’re at it, pass the Disclose Act so Americans can know who is funding our elections. \\n\\nTonight, I’d like to honor someone who has dedicated his life to serve this country: Justice Stephen Breyer—an Army veteran, Constitutional scholar, and retiring Justice of the United States Supreme Court. Justice Breyer, thank you for your service. \\n\\nOne of the most serious constitutional responsibilities a President has is nominating someone to serve on the United States Supreme Court. \\n\\nAnd I did that 4 days ago, when I nominated Circuit Court of Appeals Judge Ketanji Brown Jackson. One of our nation’s top legal minds, who will continue Justice Breyer’s legacy of excellence.']}\n",
    "count before 46\n",
    "count after 45\n",
    "'''"
   ]
  },
  {
   "cell_type": "code",
   "execution_count": null,
   "metadata": {},
   "outputs": [],
   "source": [
    "# load the document and split it into chunks\n",
    "asg_splitter = TextSplitting()\n",
    "splitters = asg_splitter.pypdf_recursive_splitter(\"./Test1.pdf\")\n",
    "# for splitter in splitters: # for visualization\n",
    "#     print(splitter)\n",
    "#     print(\"=====================================\")"
   ]
  },
  {
   "cell_type": "markdown",
   "metadata": {},
   "source": [
    "Update and Delete\n",
    "\n",
    "While building toward a real application, you want to go beyond adding data, and also update and delete data.\n",
    "\n",
    "Chroma has users provide ids to simplify the bookkeeping here. ids can be the name of the file, or a combined has like filename_paragraphNumber, etc.\n",
    "\n",
    "Chroma supports all these operations - though some of them are still being integrated all the way through the LangChain interface. Additional workflow improvements will be added soon.\n",
    "\n",
    "Here is a basic example showing how to do various operations:"
   ]
  },
  {
   "cell_type": "code",
   "execution_count": 61,
   "metadata": {},
   "outputs": [
    {
     "name": "stdout",
     "output_type": "stream",
     "text": [
      "{}\n",
      "{'ids': ['1'], 'embeddings': None, 'metadatas': [{'author': 'Li Xianming, Li Jing', 'source': 'Text2.pdf'}], 'documents': ['InProceedings of the 61st Annual Meeting of the Association for Computational Linguistics , pp.\\n15836–15848. Association for Computational Linguistics, 2023.\\nYung-Sung Chuang, Rumen Dangovski, Hongyin Luo, Yang Zhang, Shiyu Chang, Marin Soljacic,'], 'uris': None, 'data': None}\n",
      "count before 1737\n",
      "count after 1736\n"
     ]
    },
    {
     "data": {
      "text/plain": [
       "\"\\n{'source': '../../../state_of_the_union.txt'}\\n{'ids': ['1'], 'embeddings': None, 'metadatas': [{'new_value': 'hello world', 'source': '../../../state_of_the_union.txt'}], 'documents': ['Tonight. I call on the Senate to: Pass the Freedom to Vote Act. Pass the John Lewis Voting Rights Act. And while you’re at it, pass the Disclose Act so Americans can know who is funding our elections. \\n\\nTonight, I’d like to honor someone who has dedicated his life to serve this country: Justice Stephen Breyer—an Army veteran, Constitutional scholar, and retiring Justice of the United States Supreme Court. Justice Breyer, thank you for your service. \\n\\nOne of the most serious constitutional responsibilities a President has is nominating someone to serve on the United States Supreme Court. \\n\\nAnd I did that 4 days ago, when I nominated Circuit Court of Appeals Judge Ketanji Brown Jackson. One of our nation’s top legal minds, who will continue Justice Breyer’s legacy of excellence.']}\\ncount before 46\\ncount after 45\\n\""
      ]
     },
     "execution_count": 61,
     "metadata": {},
     "output_type": "execute_result"
    }
   ],
   "source": [
    "# create simple ids\n",
    "ids = [str(i) for i in range(1, len(splitters) + 1)]\n",
    "asg_splitter = TextSplitting()\n",
    "splitters = asg_splitter.pypdf_recursive_splitter(\"./Test2.pdf\")\n",
    "embedding_function = HuggingFaceEmbeddings(model_name=\"all-MiniLM-L6-v2\")\n",
    "\n",
    "# add data\n",
    "example_db = Chroma.from_documents(splitters, embedding_function, ids=ids)\n",
    "\n",
    "splitters = example_db.similarity_search(query)\n",
    "print(splitters[0].metadata)\n",
    "\n",
    "# update the metadata for a document\n",
    "splitters[0].metadata = {\n",
    "    \"source\": \"Text2.pdf\",\n",
    "    \"author\": \"Li Xianming, Li Jing\",\n",
    "}\n",
    "example_db.update_document(ids[0], splitters[0])\n",
    "print(example_db._collection.get(ids=[ids[0]]))\n",
    "\n",
    "# delete the last document\n",
    "print(\"count before\", example_db._collection.count())\n",
    "example_db._collection.delete(ids=[ids[-1]])\n",
    "print(\"count after\", example_db._collection.count())\n",
    "\n",
    "'''\n",
    "{'source': '../../../state_of_the_union.txt'}\n",
    "{'ids': ['1'], 'embeddings': None, 'metadatas': [{'new_value': 'hello world', 'source': '../../../state_of_the_union.txt'}], 'documents': ['Tonight. I call on the Senate to: Pass the Freedom to Vote Act. Pass the John Lewis Voting Rights Act. And while you’re at it, pass the Disclose Act so Americans can know who is funding our elections. \\n\\nTonight, I’d like to honor someone who has dedicated his life to serve this country: Justice Stephen Breyer—an Army veteran, Constitutional scholar, and retiring Justice of the United States Supreme Court. Justice Breyer, thank you for your service. \\n\\nOne of the most serious constitutional responsibilities a President has is nominating someone to serve on the United States Supreme Court. \\n\\nAnd I did that 4 days ago, when I nominated Circuit Court of Appeals Judge Ketanji Brown Jackson. One of our nation’s top legal minds, who will continue Justice Breyer’s legacy of excellence.']}\n",
    "count before 46\n",
    "count after 45\n",
    "'''"
   ]
  },
  {
   "cell_type": "markdown",
   "metadata": {},
   "source": [
    "Use OpenAI Embeddings\n",
    "\n",
    "Not open-source, but much more powerful"
   ]
  },
  {
   "cell_type": "code",
   "execution_count": null,
   "metadata": {},
   "outputs": [],
   "source": [
    "# get a token: https://platform.openai.com/account/api-keys\n",
    "import os\n",
    "from getpass import getpass\n",
    "from langchain_openai import OpenAIEmbeddings\n",
    "OPENAI_API_KEY = getpass()\n",
    "# os.environ[\"OPENAI_API_KEY\"] = OPENAI_API_KEY\n",
    "# embeddings = OpenAIEmbeddings()\n",
    "# new_client = chromadb.EphemeralClient()\n",
    "# openai_lc_client = Chroma.from_documents(\n",
    "#     docs, embeddings, client=new_client, collection_name=\"openai_collection\"\n",
    "# )\n",
    "# query = \"What did the president say about Ketanji Brown Jackson\"\n",
    "# docs = openai_lc_client.similarity_search(query)\n",
    "# print(docs[0].page_content)"
   ]
  },
  {
   "cell_type": "markdown",
   "metadata": {},
   "source": [
    "Similarity search with score.\n",
    "\n",
    "The returned distance score is cosine distance. Therefore, a lower score is better."
   ]
  },
  {
   "cell_type": "code",
   "execution_count": null,
   "metadata": {},
   "outputs": [],
   "source": [
    "docs = db.similarity_search_with_score(query)\n",
    "\n",
    "docs[0]\n",
    "'''\n",
    "(Document(page_content='Tonight. I call on the Senate to: Pass the Freedom to Vote Act. Pass the John Lewis Voting Rights Act. And while you’re at \n",
    "        it, pass the Disclose Act so Americans can know who is funding our elections. \\n\\nTonight, I’d like to honor someone who has dedicated his \n",
    "        life to serve this country: Justice Stephen Breyer—an Army veteran, Constitutional scholar, and retiring Justice of the United States \n",
    "        Supreme Court. Justice Breyer, thank you for your service. \\n\\nOne of the most serious constitutional responsibilities a President has is \n",
    "        nominating someone to serve on the United States Supreme Court. \\n\\nAnd I did that 4 days ago, when I nominated Circuit Court of Appeals \n",
    "        Judge Ketanji Brown Jackson. One of our nation’s top legal minds, who will continue Justice Breyer’s legacy of excellence.', \n",
    "        metadata={'source': '../../../state_of_the_union.txt'}),\n",
    " 1.1972057819366455)\n",
    "'''"
   ]
  },
  {
   "cell_type": "markdown",
   "metadata": {},
   "source": [
    "Retriever options: to use Chroma as a retriever.\n",
    "\n",
    "In addition to using similarity search in the retriever object, you can also use mmr."
   ]
  },
  {
   "cell_type": "code",
   "execution_count": null,
   "metadata": {},
   "outputs": [],
   "source": [
    "retriever = db.as_retriever(search_type=\"mmr\")\n",
    "\n",
    "retriever.invoke(query)[0]\n",
    "'''\n",
    "Document(page_content='Tonight. I call on the Senate to: Pass the Freedom to Vote Act. Pass the John Lewis Voting Rights Act. And while you’re at \n",
    "        it, pass the Disclose Act so Americans can know who is funding our elections. \\n\\nTonight, I'd like to honor someone who has dedicated his \n",
    "        life to serve this country: Justice Stephen Breyer—an Army veteran, Constitutional scholar, and retiring Justice of the United States \n",
    "        Supreme Court. Justice Breyer, thank you for your service. \\n\\nOne of the most serious constitutional responsibilities a President has is \n",
    "        nominating someone to serve on the United States Supreme Court. \\n\\nAnd I did that 4 days ago, when I nominated Circuit Court of Appeals \n",
    "        Judge Ketanji Brown Jackson. One of our nation’s top legal minds, who will continue Justice Breyer’s legacy of excellence.', \n",
    "        metadata={'source': '../../../state_of_the_union.txt'})\n",
    "'''"
   ]
  },
  {
   "cell_type": "markdown",
   "metadata": {},
   "source": [
    "Filtering on metadata\n",
    "It can be helpful to narrow down the collection before working with it.\n",
    "\n",
    "For example, collections can be filtered on metadata using the get method."
   ]
  },
  {
   "cell_type": "code",
   "execution_count": null,
   "metadata": {},
   "outputs": [],
   "source": [
    "# filter collection for updated source\n",
    "example_db.get(where={\"source\": \"some_other_source\"})\n",
    "\n",
    "'''\n",
    "{'ids': [], 'embeddings': None, 'metadatas': [], 'documents': []}\n",
    "'''"
   ]
  },
  {
   "cell_type": "markdown",
   "metadata": {},
   "source": [
    "**In-memory with persistance** - in a script or notebook and save/load to disk\n",
    "\n",
    "Save to disk: simply initialize the Chroma client and pass the directory where the data to be saved to.\n",
    "\n",
    "Chroma makes a best-effort to automatically save data to disk, however multiple in-memory clients can stop each other's work. As a best practice, only have one client per path running at any given time."
   ]
  },
  {
   "cell_type": "code",
   "execution_count": null,
   "metadata": {},
   "outputs": [],
   "source": [
    "# save to disk\n",
    "db2 = Chroma.from_documents(docs, embedding_function, persist_directory=\"./chroma_db\")\n",
    "docs = db2.similarity_search(query)\n",
    "\n",
    "# load from disk\n",
    "db3 = Chroma(persist_directory=\"./chroma_db\", embedding_function=embedding_function)\n",
    "docs = db3.similarity_search(query)\n",
    "print(docs[0].page_content)"
   ]
  },
  {
   "cell_type": "markdown",
   "metadata": {},
   "source": [
    "Passing a Chroma Client into Langchain\n",
    "\n",
    "You can also create a Chroma Client and pass it to LangChain. This is particularly useful if you want easier access to the underlying database.\n",
    "\n",
    "You can also specify the collection name that you want LangChain to use."
   ]
  },
  {
   "cell_type": "code",
   "execution_count": null,
   "metadata": {},
   "outputs": [],
   "source": [
    "import chromadb\n",
    "\n",
    "persistent_client = chromadb.PersistentClient()\n",
    "collection = persistent_client.get_or_create_collection(\"collection_name\")\n",
    "collection.add(ids=[\"1\", \"2\", \"3\"], documents=[\"a\", \"b\", \"c\"])\n",
    "\n",
    "langchain_chroma = Chroma(\n",
    "    client=persistent_client,\n",
    "    collection_name=\"collection_name\",\n",
    "    embedding_function=embedding_function,\n",
    ")\n",
    "\n",
    "print(\"There are\", langchain_chroma._collection.count(), \"in the collection\")\n",
    "\n",
    "\n",
    "'''\n",
    "Add of existing embedding ID: 1\n",
    "Add of existing embedding ID: 2\n",
    "Add of existing embedding ID: 3\n",
    "Add of existing embedding ID: 1\n",
    "Add of existing embedding ID: 2\n",
    "Add of existing embedding ID: 3\n",
    "Add of existing embedding ID: 1\n",
    "Insert of existing embedding ID: 1\n",
    "Add of existing embedding ID: 2\n",
    "Insert of existing embedding ID: 2\n",
    "Add of existing embedding ID: 3\n",
    "Insert of existing embedding ID: 3\n",
    "``````output\n",
    "There are 3 in the collection\n",
    "'''"
   ]
  }
 ],
 "metadata": {
  "kernelspec": {
   "display_name": "Python 3",
   "language": "python",
   "name": "python3"
  },
  "language_info": {
   "codemirror_mode": {
    "name": "ipython",
    "version": 3
   },
   "file_extension": ".py",
   "mimetype": "text/x-python",
   "name": "python",
   "nbconvert_exporter": "python",
   "pygments_lexer": "ipython3",
   "version": "3.12.3"
  }
 },
 "nbformat": 4,
 "nbformat_minor": 2
}
